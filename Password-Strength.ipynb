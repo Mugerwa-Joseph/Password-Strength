{
 "cells": [
  {
   "cell_type": "code",
   "execution_count": 4,
   "id": "cb99c051",
   "metadata": {},
   "outputs": [
    {
     "name": "stdout",
     "output_type": "stream",
     "text": [
      "=====> MENU <====\n",
      "Enter your choice: \n",
      " 1 => Create a user: \n",
      " 2 => Change a password: \n",
      " 3 => Display all users: \n",
      " 4 => Quit \n",
      "2\n",
      "Change a user password.\n",
      "NOTE: \n",
      " The Password must be atleast 8 characters, with at least a capital letter, small letter, a non alpha numeric and a number \n",
      "Enter your choice: \n",
      " 1 => Create a user: \n",
      " 2 => Change a password: \n",
      " 3 => Display all users: \n",
      " 4 => Quit \n",
      "4\n",
      "The program has ended......\n"
     ]
    }
   ],
   "source": [
    "\n",
    "def createPassword():\n",
    "    print(\"NOTE: \\n The Password must be atleast 8 characters, with at least a capital letter, small letter, a non alpha numeric and a number \")\n",
    "\n",
    "\n",
    "def main():\n",
    "    print(\"=====> MENU <====\")\n",
    "    selection = True\n",
    "    \n",
    "    while selection == True:\n",
    "        choice = int(input(\"Enter your choice: \\n 1 => Create a user: \\n 2 => Change a password: \\n 3 => Display all users: \\n 4 => Quit \\n\"))\n",
    "        if choice == 1:\n",
    "            print(\"Create the user:\")\n",
    "        elif choice == 2:\n",
    "            print(\"Change a user password.\")\n",
    "            createPassword()\n",
    "        elif choice == 3:\n",
    "            print(\"Display all users.\")\n",
    "        elif choice == 4:\n",
    "            print(\"The program has ended......\")\n",
    "            selection = False\n",
    "\n",
    "main()\n"
   ]
  }
 ],
 "metadata": {
  "kernelspec": {
   "display_name": "Python 3",
   "language": "python",
   "name": "python3"
  },
  "language_info": {
   "codemirror_mode": {
    "name": "ipython",
    "version": 3
   },
   "file_extension": ".py",
   "mimetype": "text/x-python",
   "name": "python",
   "nbconvert_exporter": "python",
   "pygments_lexer": "ipython3",
   "version": "3.8.8"
  }
 },
 "nbformat": 4,
 "nbformat_minor": 5
}
